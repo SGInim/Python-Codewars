{
 "cells": [
  {
   "cell_type": "markdown",
   "metadata": {},
   "source": [
    "# Python_Training_w/ Codewars!"
   ]
  },
  {
   "cell_type": "markdown",
   "metadata": {},
   "source": [
    "<img src=\"https://www.codewars.com/users/Snim/badges/large\" alt=\"Drawing\" style=\"width: 400px;\" align='left'/>"
   ]
  },
  {
   "cell_type": "markdown",
   "metadata": {},
   "source": [
    "**CodeWars Python Level:** 3 kyu (32.5%)<br>"
   ]
  },
  {
   "cell_type": "markdown",
   "metadata": {},
   "source": [
    "## Contents:\n",
    "* [**1. <font color=green>Lessons Learned</font>**](#lessonslearned)\n",
    "* **2. <font color=red>Unsolved</font>**\n",
    "    * [**2.1. <font color=red>Unsolved: To try</font>**](#unsolved)\n",
    "    * [**2.2. <font color=red>Unsolved: Help</font>**](#unsolved21)\n",
    "* [**3. <font color=orange>Unsolved: Abandoned</font>**](#unsolved3)\n",
    "* [**4. <font color=purple>My Own Katas</font>**](#myownkatas)\n",
    "* [**5. <font color=blue>Workspace</font>**](#workspace)"
   ]
  },
  {
   "cell_type": "markdown",
   "metadata": {},
   "source": [
    "# <a class=\"anchor\" id=\"lessonslearned\"> Lessons Learned </a>"
   ]
  },
  {
   "cell_type": "markdown",
   "metadata": {},
   "source": [
    "1) Lots of code can be written in one line <br>\n",
    "2) Remember you can \"(i,j) for (m,n) in foo\". So long as you unpack the same number of values, you can use tuples in your loop! <br> \n",
    "3) The backwards **'\\\\'** after an **else** statement lets you continue in the line below! (in case your line is too long)  <br>\n",
    "4) The default function output that will work if no parameters are passed: def **def example(my_default=None)** <br>\n",
    "5) The function **ord(i)** takes a character and returns its integer, the function **chr(i)** does the opposite <br> \n",
    "6) **list.sort()** is a is an in-place function and does not save anything (None), use **sorted(list)** <br>\n",
    "7) **list_name.append(x)** gets appended, you don't have to assign it like list_name = list_name.append() <br>\n",
    "8) **startswith()** and **endswith()** return a boolean <br>\n",
    "9) Creating a list with new_list = [ #code# ] is called **list comprehension** <br>\n",
    "10) **list comprehension** admits **else** in this form: a if a else 2 for a in [0,1,0,3]] <br>\n",
    "11) **%s %d** %(string, number) I can even add conditions into it! <br>\n",
    "12) **x // 10** to get all digits but the last; **x % 10** to get last digit <br>\n",
    "13) To call key,value from dict: **my_dict['key'] (value)** <br>\n",
    "14) **str({}    {}{}).format(x,y,z...)** <br>\n",
    "15) **str.replace**('to add','to remove', (optional) number of times) <br>\n",
    "&emsp; **re.sub**(pattern, repl, string, count=0, flags=0) also works~ (check flags syntax) <br>\n",
    "&emsp; It is also possible to replace a certain length by **s.replace(s[:-4],'#'\\*(len(s)-4))** or **'{message:#>{fill}}'.format(message=s[-4:], fill=len(s))**<br>\n",
    "16) **str.translate(None,'replacement')** is like str.replace() but works for multiple replacements. It is used with str.maketrans for multiple s(1,2,3)<br>\n",
    "&emsp; 1.characters that need replacement 2.replacement 3.needs to be deleted (optional) e.g.: **s.translate(str.maketrans(\"ąćęłńóśźż\", \"acelnoszz\"))**<br>\n",
    "17) **list.index(i,1)** takes an optional parameter, a number, that tells where to start looking <br>\n",
    "18) These **'>>,<<'** are called bitwise shift (right,left) operators. Example: 10>>1 which is the same as 10//(2^1) <br>\n",
    "19) **s.split('[+=]')** Use brackets '[]' if you want to split by multiple characters <br>\n",
    "20) minutes to time: {:02d}:{:02d}'.format(\\*divmod(n, 60)) Choose n. BTW, divmod returns (a // b, x % y)  <br>\n",
    "21) How useful **Map** is <br>\n",
    "22) In loops, you can do [**1** for i in iterable], useful with sum()! <br>\n",
    "23) **eval(str)** lets you evaluate operations as strings (e.g. '1+1') <br>\n",
    "24) **enumerate <3**: It always unpacks two values. Discovered it has an optional arg to set count.<br>\n",
    "&emsp; enumerate([1,2,3], 1) will start counting indexes at 1 instead of 0<br>\n",
    "25) For data analytics: object**.tolist()** will convert pandas.core.series.Series to list type! <br>\n",
    "26) **dict.get(key, None)** The second parameter acts as 'else' to be returned if key is not found <br>\n",
    "27) **args** are different than **kwargs** in that kwargs are keyword arguments predefined in a function fun(foo=7,var=2) <br>\n",
    "28) **all** and **any** return True if all are True or if any of them are True <br>\n",
    "29) **zip** joins two or more iterables (of equal length) by index. Turns them into a generator.<br>                                                &emsp; E.g.: a = (\"John\", \"Charles\", \"Mike\")  b = (\"Jenny\", \"Christy\", \"Monica\"); zip(a,b) -> (('John', 'Jenny'), ('Charles', 'Christy'), ('Mike', 'Monica')) <br> \n",
    "30) if/else in function: **e.g.:** def find_avg(nums): return np.mean(nums) if **nums** else 0. -> if 'nums' means not empty <br> \n",
    "31) Python lets you **save anything with x outcomes into any x variables** like this: hours,minutes = divmod(70, 60), or b1,b2 = sorted(['black,'brown']) <br>\n",
    "32) Never raise an exception: too many problems. But you can **raise ValueError('add whatever here')** <br>\n",
    "33) **not n & 1** returns True if even! <br>\n",
    "34) from random import **choice**: e.g.: choice('123456') ...3! <br>\n",
    "35) **dir(__builtins__)** contains a list of the built-in functions/methods <br>\n",
    "36) **bisect** module provides support to keep a sorted order even after inserting elements in a list <br>\n",
    "37) Instead of defining a function: **solution*=lambda s:**chr(sum(map(ord,s.upper()))//len(s)) \\*name of function<br>\n",
    "38) **Instantiate** in Python is the process of creating an object from a class (like str) <br>\n",
    "39) **s.strip()** removes leading and trailing whitespaces! <br>\n",
    "40) The beautiful **%%timeit** <br>\n",
    "41) To add a **conditional** inside the **f\"** function use \\*: f\"{}glass{ 'es'**\\*(condition)** }\" <br>\n",
    "&emsp; **Note:** very important to use double quotes first and use single ones inside the brackets or **f\"** will think you are closing it beforehand<br> \n",
    "42) **Python RegEx** (Regular Expressions) can be used through 're' package. Useful when you need to do a search or match of  a certain pattern. <br> &emsp; Look up examples and syntax. E.g: foo = r'[A-Z]' would contain each uppercase char. Adding ('+') in the end (r'[A-Z]+') will return it by chunks. <br>\n",
    "&emsp; Another useful tip to split by x characters: <br>&emsp; **re.findall('.{1,4}', '123456789')** or **re.findall('....','1234567890')** will split by 4 (leaving {1} character hanging on the former and 0 on the latter). <br>\n",
    "&emsp; However, if you want the hanging characters to be replace by something: **re.findall(\".{2}\", '12345' + \"\\_\")** <br>\n",
    "&emsp; From **textwrap import wrap**. Wrap also does the job wrap(s,4)<br>\n",
    "&emsp; Also sub is great for replacement: **sub(r'[to look for]','to replace with', s)**<br>\n",
    "43) Intelligent way to make sure there's no repeated values: return [c,i for i in enumerate(s) if condition1 **and i not in s[:c]**] <br>\n",
    "44) It is possible to create a function that returns a function, by defining another function inside it and then returning that function, <br> &emsp; without calling it (so, with no parenthesis). Then, you will have to save it in a variable to be able to call it. <br> &emsp; E.g.: add_one = add(1)  /n  add_one(3)  --*Where add_one is the function inside your function* <br>\n",
    "45) You can create your return inside a list with conditionals, like: [\"Escaped!\",  \"Caught!\"][x.count('.') <= 3], so that the comparator acts as a separator. <br>\n",
    "46) Comparators can be chained, so **(n%x)==0 and (n%y)==0** is the same as: **n%x==0==n%y** (latter way better!) <br>\n",
    "47) For the exercises that involve going up and then down like the snail, here's a short solution: **return math.ceil((column - night) / (day - night))** <br>\n",
    "48) The **set.issubset(set)** method returns True if all elements in (set) are in set. <br>\n",
    "49) Python method **exec(s)** lets you run code inside a string! <br>\n",
    "50) The **or** can act as en else!! In loops or almost anywhere: for i in [1,2,7,8]: if i % 2 == 0: print(i) or print('no') <br>\n",
    "51) Awesome **RegEx** way to insert * into even digits of a string: return **re.sub(r'(?<=[02468])(?=[02468])', '\\*', s)**<br>\n",
    "52) Every class (str, int, list, etc.) has its own methods, and they can be called with underscores as well, like **[1,2,3].\\__contains\\__(3)** or **int(8)\\__add\\__(2)** <br>\n",
    "53) The new f\" string has format specifiers for types, padding, or aligning, like f'{price:.3}. By default characters are justified to the left, <br> &emsp; but adding > after a semicolon will justify them to the right. <br>\n",
    "54) When you need to iterate over an iterable, there's a smart way to **'go back'** to the beginning (key is to find a math operation to get lower indexes): <br>\n",
    "&emsp; e.g.1: return the next one! color = ['green', 'yellow', 'red'] return color[(color.index(current) +1) % len(color)].  **modulo** is the key!<br>\n",
    "&emsp; e.g.2: classic rock-paper-scissors: hand = {'rock':0, 'paper':1, 'scissors':2}; results = ['Draw!', 'Player 1 won!', 'Player 2 won!'] [hand[p1] - hand[p2]] <br>\n",
    "55) Check if **consecutive:** sorted(n) == list(range(min(n), max(n)+1) <br>\n",
    "56) You can **return** your answer **inside a tuple** with conditionals on it! (not just the other way aroud): <br>\n",
    "&emsp; return (\"AMEX\" if len(s)==15 and s[:2] in (\"34\",\"37\") else <br>\n",
    "&emsp; \"Discover\" if len(s)==16 and s.startswith(\"6011\") else \\n \"Unknown\")<br>\n",
    "57) Python has **local and global variables**. A local one is created inside a function and cannot be called outside and viceversa. <br>\n",
    "&emsp; But you can access a global variable by typing **global** x (if x was the name of your variable) <br>\n",
    "58) If you use ***** in format string the argument input gets split individually! e.g.: return \"({}{}) {}{}-{}{} {}\".format(*****n) (function taking a string of n length)<br>\n",
    "59) You can save a dictionary with {'black'+'brown': 'dark brown'} and the key counts as one item! (but you can't try to search separately)<br>\n",
    "60) The **modulo** defaults to True if result is 0. So, typing **not 2 % 5** will return False <br>\n",
    "61) Smart way to return a result for different data types in one line: return **type(data)**( str(data)[::-1] )<br>\n",
    "&emsp; Note: Before, I would do it like: if int(str(data)[::-1]), elif float(str(data)[::-1]) and so on. <br>\n",
    "62) **alphabet object** without typing it: from string import ascii_lowercase as alphabet <br>\n",
    "63) **next**(iterator, default) function retrieves the next item from an iterator object.<br>\n",
    "&emsp; E.g.: say you want to return the first non-repeated character in one line: return next(c for c in s if s.count(c) == 1) <br>\n",
    "64) According to the **Zen of Python: flat is better than nested**. Ways to flatten a list: <br>\n",
    "&emsp; a) **list comprehension** newlist = [item for items in nested_list for item in items] <br>\n",
    "&emsp; b) **from itertools import chain** ; newlist = list(chain(\\*nested_list)) **or** newlist = list(chain.from_iterable(nested_list)) <br>\n",
    "&emsp; c) **sum function**: newlist = sum(nested_list, []); **reduce function** newlist = reduce(lambda x,y: x+y, nested_list) <br>\n",
    "&emsp; d) **import operator** newlist = reduce(operator.add, nested_list). _NOTE: This will be faster than reduce + lambda_ <br>\n",
    "65) **Math**: easy and most efficient way to find the number of multiples of **x** in a given number: **number // x**<br>\n",
    "66) Python's **accumulate(iterator, [function=addition]) from itertools** takes an iterator and accumulates the function passed (addition if none). <br> \n",
    "&emsp; E.g: example = itertools.accumulate([1,2,3,4,5]) will make the example become [1,3,6,10,15] <br> \n",
    "67) In Python, **Unicode** literals are written as strings prefixed with the 'u' or 'U' character: u'abcdefghijk' <br>\n",
    "68) **reduce(fun, seq)** module from **functools** takes in a function and applies it initially to the 1st and 2nd items in the seq, <br>\n",
    "&emsp; then applies the generated value with the 3rd item, and so on till there are no items left. <br>\n",
    "69) **Ways to multiply an array**: **1)** reduce((lambda x, y: x * y), list1) **2)** numpy.prod(list1)  **3)** list(accumulate(list1, lambda a, b: a * b))[-1] <br>\n",
    "70) The **caret symbol ^** does a XOR operation (it results to true if one and only one of the operands is true).<br>\n",
    "&emsp; For instance 7^8 = 15 because binary 7 (0111) and binary 8 (1000), so vertically it will result in 1111 (15 in base 2) <br>\n",
    "71) **Find closest value in list ways: (k being the value)**:<br> \n",
    "&emsp; A) lst[min(range(len(lst)), key = lambda x: abs(lst[x]-k))] <br>\n",
    "&emsp; C) res = min(enumerate(lst), key=lambda x: abs(k - x[1])) <br>\n",
    "&emsp; B) with **numpy:** lst = np.asarray(lst);  idx = (np.abs(lst - k)).argmin(); return lst[idx] <br>\n",
    "72) Use replace in lambdas if you want to sort a list in a especial way, because it won't replace the actual string! <br>\n",
    "73) To check two certain consecutive elements for a condition in an iterator, aside from using enumerate (c+1), <br>\n",
    "&emsp; you can define a variable==True and set it to False depending on your condition. <br>\n",
    "74) To get all possible combinations of values in a list, **import combinations (from itertools)**. It works like this: <br>\n",
    "&emsp; for combo in combinations(lst, 2): print(combo). # 2 for pais, 3 for triplets, etc <br>\n",
    "75) You can create a **return with options** that will output whatever **matches**: <br>\n",
    "&emsp; {a + b: \"addition\", a - b: \"subtraction\", a * b: \"multiplication\", a / b: \"division\"}[res] <br>\n",
    "76) Fast way to **round** to the nearest x (e.g.: x = 5): **n + (5 - n) % 5**<br>\n",
    "77) **Shifting elements** in a list **by 1**: lst = [lst[-1]] + lst[:-1]<br>\n",
    "&emsp; But numpy has it even better, **by x**: numpy.roll([1,2,3,4,5], 1)<br>\n",
    "78) Clever way (efficiency-speaking) to find missing number in unordered arr of 0 to 100: **5050 - sum(arr)** <br>\n",
    "79) In order to **display an image from internet**, import this: **from** IPython.core.display **import** display, HTML, Image <br>\n",
    "&emsp; And **use this code**: display(HTML(\"https://www.codewars.com/users/Snim/badges/large\")) <br>\n",
    "&emsp; Note: Image(image.png) can simply be used if your image is saved locally (same folder as notebook) <br>\n",
    "80) **Sort by two keys**: new_list = *sorted(a_list, key=lambda x: (len(x), x))*. Note: first by len and then alphabetically (second 'x')<br>\n",
    "81) Python's **from os.path** import **commonprefix** returns prefix shared by all words in list, e.g.: commonprefix(['apple', 'apartment']) will return **ap** <br>"
   ]
  },
  {
   "cell_type": "markdown",
   "metadata": {},
   "source": [
    "## To Learn/Master and To-Do\n",
    "1) <font color=red>**practice with the use of \"groupby\" (from \"import itertools\")**</font> <br>\n",
    "2) <font color=red>***...***</font> <br>"
   ]
  },
  {
   "cell_type": "markdown",
   "metadata": {},
   "source": [
    "# <a class=\"anchor\" id=\"unsolved\"> 2.1. Unsolved: To try </a>"
   ]
  },
  {
   "cell_type": "markdown",
   "metadata": {},
   "source": [
    "**To try next:** <br>\n",
    "Coefficients of the Quadratic Equation [8 kyu] **Basic equations** <br>\n",
    "\n",
    "Hex Word Sum [7 kyu] **HEX** <br>\n",
    "Knight position [7 kyu] **Navigate Arrays** <br>\n",
    "Mutate My Strings [7 kyu] **str**<br>\n",
    "Ultimate Array Reverser [7 kyu] **str**<br>\n",
    "Which section did you scroll to [7 kyu] <br>\n",
    "80's Kids #5: You Can't Do That on Television [7 kyu] <br>\n",
    "Letters only, please [7 kyu] **RegEx** <br>\n",
    "Bug Squish [7 kyu] **RegEx** <br>\n",
    "Simple Fun #182: Happy \"g\" [7 kyu] **RegEx** <br>\n",
    "\"Center yourself\", says the monk. [7 kyu] **Easy** <br>\n",
    "Picking the best Casino Game [7 kyu] **probablity**<br>\n",
    "Simple String Division [7 kyu] **K possibilites** <br>\n",
    "Sequence Sum [7 kyu] **Pattern** <br>\n",
    "Find the 2nd largest integer in array [7 kyu] <br>\n",
    "Send in the Clones [7 kyu] **Game** <br>\n",
    "Minimum to Multiple [7 kyu] **Math** <br>\n",
    "Conference Traveler [7 kyu] <br>\n",
    "Suzuki needs help lining up his students! [7 kyu] <br>\n",
    "Sum the Repeats [7 kyu] <br>\n",
    "How Many Urinals Are Free [7 kyu] <br>\n",
    "Queue Time Counter [7 kyu] **Arrays** <br>\n",
    "Help Bob count letters and digits [7 kyu] <br>\n",
    "Counting Valleys [7 kyu] **Logic** <br>\n",
    "ATM [7 kyu] **Division** <br>\n",
    "Resistor Color Codes [7 kyu] <br>\n",
    "Simple Elevator [7 kyu] <br>\n",
    "Simple Fun #61: Crossing Sum [7 kyu] **Navigate Arrays**<br>\n",
    "Copy Within [7 kyu] **String Slicing**<br>\n",
    "Binary operations #1 [7 kyu] <br>\n",
    "Towers of Hanoi [7 kyu] <br>\n",
    "Count the Number of Words in a Sentence [7 kyu] <br>\n",
    "Sum Array with different bases [7 kyu] <br>\n",
    "Identify Case [7 kyu] **snake, camel or kebab case: Hard**<br>\n",
    "How many monsters? [7 kyu] **Basic Math**<br>\n",
    "Recursion 101 [7 kyu] **Recursion!: messy**<br>\n",
    "Simple Letter Removal [7 kyu] <br>\n",
    "Simple Sequence Validator [7 kyu] <br>\n",
    "Broken Sequence [7 kyu] <br>\n",
    "Simple Fun #194: Binary String [7 kyu] <font color=green>**Not Attempted**</font> **Easy**<br>\n",
    "Dictionary from two lists [7 kyu] <font color=green>**Not Attempted**</font><br>\n",
    "Fill None [7 kyu] **Next and previous positions in list**<br>\n",
    "Dee, The Generous Tipper [7 kyu] <font color=green>**Not Attempted**</font> **Rounding**<br>\n",
    "Simple Fun #41: Elections Winners [7 kyu] <br>\n",
    "London City Hacker [7 kyu] **Next elements in arr**<br>\n",
    "Bus mastering - Who is the master [7 kyu] <font color=green>**Not Attempted**</font><br>\n",
    "Maximum Gap (Array Series #4) [7 kyu] <font color=green>**Not Attempted**</font> **Easy**<br>\n",
    "\n",
    "Find the Parity Outlier [6 kyu] <font color=green>**Not Attempted**</font> **Easy**<br>\n",
    "Playing with passphrases [6 kyu] <font color=green>**Not Attempted**</font> **Easy**<br>\n",
    "Can you win the codewar? [6 kyu] <font color=green>**Not Attempted**</font> <br>\n",
    "Palindrome Builder [6 kyu] <font color=green>**Not Attempted**</font> <br>\n",
    "Buying a car [6 kyu] <font color=green>**Not Attempted**</font> <br>\n",
    "Loneliest character [6 kyu] <font color=green>**Not Attempted**</font> **Easy**<br>\n",
    "Coding 3min: virus in apple [6 kyu]<br>\n",
    "Split Strings [6 kyu] <br>\n",
    "Vowel Recognition [6 kyu] <br>\n",
    "What's your Poison [6 kyu]  <font color=green>**Not Attempted**</font> <br>\n",
    "Sort the odd [6 kyu] <br>\n",
    "String Letter Counting [6 kyu] <br>\n",
    "Find the missing letter [6 kyu] <br>\n",
    "Next Version [6 kyu] <br>\n",
    "Techno Barman [6 kyu] <font color=green>**Not Attempted**</font> <br>\n",
    "One is the loneliest number [6 kyu] <font color=green>**Not Attempted**</font> <br>\n",
    "Delete occurrences of an element if it occurs more than n times [6 kyu] <br>\n",
    "I said the word WOULD instead of WOULDN'T [6 kyu] **Easy enough**<br>\n",
    "Doors in the school [6 kyu] **Easy** <br>\n",
    "Give me a diamond [6 kyu] **Easy** <br>\n",
    "Esolang Interpreters #1 [6 kyu] **Easy** <br>\n",
    "\n",
    "Josephus Survivor [5 kyu]<br>\n",
    "Not very secure [5 kyu] **RegEx** <br>\n",
    "Beeramid [5 kyu] **Easy Math** <br>\n",
    "Simple Assembler Interpreter [5 kyu] <font color=green>**Not Attempted**</font> <br>\n",
    "\n",
    "Vigenère Cipher Helper [4 kyu] <font color=green>**Not Attempted**</font> <br>"
   ]
  },
  {
   "cell_type": "markdown",
   "metadata": {},
   "source": [
    "# <a class=\"anchor\" id=\"unsolved21\"> 2.2. Unsolved: Help! </a>"
   ]
  },
  {
   "cell_type": "markdown",
   "metadata": {},
   "source": [
    "### Classes\n",
    "Classy Extensions [8 kyu] <br>\n",
    "Racing #1 [7 kyu]  <br>\n",
    "Papers, please [3 kyu]  <br>"
   ]
  },
  {
   "cell_type": "markdown",
   "metadata": {},
   "source": [
    "### Data Science\n",
    "\n",
    "Pandas Series 103 [7 kyu]  <br>\n",
    "Building an Adaboost model with Sklearn (Introductory Machine Learning) [7 kyu]  <br>"
   ]
  },
  {
   "cell_type": "markdown",
   "metadata": {},
   "source": [
    "# <a class=\"anchor\" id=\"unsolved3\"> 3. Unsolved: Abandoned </a>"
   ]
  },
  {
   "cell_type": "markdown",
   "metadata": {},
   "source": [
    "**Ugh:** <br>\n",
    "Birthday I [8 kyu] <font color=red>**Too many issues**</font> <br>\n",
    "What's wrong with these identifiers? [8 kyu] <font color=red>**Don't know**</font> <br>\n",
    "Is it a number? [8 kyu] <font color=red>**Failing only one random test**</font><br>\n",
    "Find Duplicates [7 kyu] <font color=red>**return in the same order they appear...**</font><br>\n",
    "Sort two arrays [6 kyu] <font color=red>**problem when numbers are repeated**</font><br>\n",
    "Replace every nth character [7 kyu] <font color=red>**I think the tests are wrong**</font><br>\n",
    "Reversing a Process [6 kyu] <font color=red>**Prob a math issue**</font><br>\n",
    "The Baby Years I [7 kyu] <font color=red>**No clue...**</font><br>\n",
    "Merge in 2048 [6 kyu] <font color=red>**Really hard...**</font><br>\n",
    "Unlimited Sum [7 kyu] <font color=darkorange>***args in function**</font><br>\n",
    "How many arguments? [7 kyu] <font color=darkorange>***args in function**</font><br>\n",
    "Simple eviternity numbers [7 kyu] <font color=darkorange>**TimeOut**</font> <br>\n",
    "Powers of 3 [7 kyu] <font color=darkorange>**TimeOut**</font> <br>\n",
    "Simple missing sum [6 kyu] <font color=darkorange>**TimeOut**</font> <br>\n",
    "Sum of Parts [6 kyu] <font color=darkorange>**TimeOut**</font> <br>\n",
    "Number Zoo Patrol [6 kyu] <font color=darkorange>**TimeOut**</font> <br>\n",
    "Numericals of a string [6 kyu] <font color=darkorange>**TimeOut**</font> <br> \n",
    "The First True [7 kyu] <font color=darkorange>**TimeOut**</font> <br>\n",
    "Find Nearest Square Number [8 kyu] <font color=darkorange>**TimeOut**</font> <br>\n",
    "Recursive Replication [7 kyu]<font color=darkorange>**Recursion**</font> <br>\n",
    "How many days are represented [7 kyu] <font color=darkorange>**Gave up...**</font> <br>\n",
    "The First Non Repeated Character <font color=darkorange>**Gave up...**</font> [7 kyu] <br>\n",
    "Almost Everywhere Zero <font color=darkorange>**TimeOut**</font>  [4 kyu] <br>\n",
    "Average Array <font color=darkorange>**Need to make my own zip**</font> [7 kyu] "
   ]
  },
  {
   "cell_type": "markdown",
   "metadata": {},
   "source": [
    "# <a class=\"anchor\" id=\"myownkatas\"> 4. My Own Katas </a>"
   ]
  },
  {
   "cell_type": "markdown",
   "metadata": {},
   "source": [
    "### IDEAS\n",
    "1. ..."
   ]
  },
  {
   "cell_type": "markdown",
   "metadata": {},
   "source": [
    "# <a class=\"anchor\" id=\"workspace\"> 5. Workspace </a>"
   ]
  },
  {
   "cell_type": "code",
   "execution_count": null,
   "metadata": {},
   "outputs": [],
   "source": [
    "# Hackers Code\n",
    "\n",
    "def hackers_code(text):\n",
    "    first = ''\n",
    "    for i in text.split():\n",
    "        for c,x in enumerate(i):\n",
    "            if c % 2 != 0:\n",
    "                first += str(ord(x))\n",
    "            else:\n",
    "                first += x.upper()\n",
    "        return first"
   ]
  }
 ],
 "metadata": {
  "kernelspec": {
   "display_name": "Python 3",
   "language": "python",
   "name": "python3"
  },
  "language_info": {
   "codemirror_mode": {
    "name": "ipython",
    "version": 3
   },
   "file_extension": ".py",
   "mimetype": "text/x-python",
   "name": "python",
   "nbconvert_exporter": "python",
   "pygments_lexer": "ipython3",
   "version": "3.7.3"
  }
 },
 "nbformat": 4,
 "nbformat_minor": 2
}
